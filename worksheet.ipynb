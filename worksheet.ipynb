{
 "cells": [
  {
   "cell_type": "code",
   "execution_count": null,
   "id": "ff4ba240-eb3d-4103-9972-e7ab5be4b659",
   "metadata": {},
   "outputs": [],
   "source": [
    "%load_ext autoreload\n",
    "%autoreload 2\n",
    "\n",
    "import plotly\n",
    "import plotly.graph_objects as go\n",
    "import plotly.express as px\n",
    "import numpy as np\n",
    "import formulas\n",
    "import pandas as pd\n",
    "import random\n",
    "import dataframes\n",
    "\n",
    "plotly.offline.init_notebook_mode(connected=True)"
   ]
  },
  {
   "cell_type": "markdown",
   "id": "7e6d1260",
   "metadata": {},
   "source": [
    "# Inputs\n",
    "Assume fixed rate mortgage"
   ]
  },
  {
   "cell_type": "code",
   "execution_count": null,
   "id": "2ec849eb-f142-4852-8d6c-f46077ed1339",
   "metadata": {},
   "outputs": [],
   "source": [
    "# Loan\n",
    "DOWN_PAYMENT = 200000\n",
    "PRINCIPAL = 900000 # This is the value of house. Principal is probably a bad name for this.\n",
    "LOAN_APR = 0.077\n",
    "DURATION = 30 # number of years\n",
    "\n",
    "# Additional Costs\n",
    "# Home insurance 1500 per year\n",
    "# HOA 150 per month\n",
    "ADDITIONAL_MONTHLY_COSTS = 1500/12 + 150\n",
    "\n",
    "# Tax\n",
    "TAX_APPRAISAL_VAL = PRINCIPAL\n",
    "TAX_APR = 0.02\n",
    "TAX_APPRAISAL_VAL_GROWTH_RATE = 0.0\n",
    "\n",
    "# Income\n",
    "MONTHLY_INCOME = 200000/12 # Gross monthly income because debt-to-income ratio is calculated from gross\n",
    "\n",
    "# Don't touch\n",
    "PAYMENTS_N = 12 # monthly payments. CAUTION - this should probably never be changed because I'm sure I've hardcoded 12 elsewhere\n",
    "loan_value  = PRINCIPAL - DOWN_PAYMENT"
   ]
  },
  {
   "cell_type": "markdown",
   "id": "1e3adb96-ba43-453e-9733-1975acc88134",
   "metadata": {},
   "source": [
    "# Property Tax\n",
    "\n",
    "<span style=\"color:red\">\n",
    "</span>"
   ]
  },
  {
   "cell_type": "code",
   "execution_count": null,
   "id": "174538e7-7081-4778-b6a3-07e5ff7b8098",
   "metadata": {},
   "outputs": [],
   "source": [
    "tax_df = dataframes.property_tax_amortization(TAX_APPRAISAL_VAL, TAX_APR, DURATION, TAX_APPRAISAL_VAL_GROWTH_RATE)\n",
    "# display(tax_df.round(0))"
   ]
  },
  {
   "cell_type": "markdown",
   "id": "3f53eafc-6c61-4f5d-871d-2e430344fb0f",
   "metadata": {},
   "source": [
    "# Mortgage Amortization"
   ]
  },
  {
   "cell_type": "code",
   "execution_count": null,
   "id": "3d21d3f4-a970-4bd3-ba80-25326c9e4302",
   "metadata": {},
   "outputs": [],
   "source": [
    "ma_df = dataframes.mortgage_amortization(loan_value, LOAN_APR, PAYMENTS_N, DURATION, DOWN_PAYMENT)\n",
    "display(ma_df.round(0))\n",
    "\n",
    "fig = px.bar(ma_df, x=ma_df.index, y=['interest paid', 'principal paid'])\n",
    "fig.add_scatter(x=ma_df.index, y=ma_df['mortgage balance'], name='mortgage balance')\n",
    "fig.add_scatter(x=ma_df.index, y=ma_df['equity'], name='equity')\n",
    "fig.show()"
   ]
  },
  {
   "cell_type": "markdown",
   "id": "5d5d460a-55be-48f6-95d6-fb516f1f06bb",
   "metadata": {},
   "source": [
    "# Payment Amortization"
   ]
  },
  {
   "cell_type": "code",
   "execution_count": null,
   "id": "6e663413-68b0-40be-9b1b-7be8237fa87c",
   "metadata": {},
   "outputs": [],
   "source": [
    "as_df = dataframes.amortization_summary(ma_df, tax_df, monthly_income=MONTHLY_INCOME, monthly_additional_costs=ADDITIONAL_MONTHLY_COSTS)\n",
    "display(as_df.round(0))\n",
    "\n",
    "#Sums\n",
    "fig = px.bar(as_df, x=as_df.index, y=['principal paid', 'interest paid', 'tax paid'], title='Amounts Paid')\n",
    "fig.add_scatter(x=as_df.index, y=as_df['mortgage balance'], name='mortgage balance', mode='lines')\n",
    "fig.add_scatter(x=as_df.index, y=as_df['equity'], name='equity', mode='lines')\n",
    "fig.add_scatter(x=as_df.index, y=as_df['payments'], name='payments', mode='lines')\n",
    "fig.add_scatter(x=as_df.index, y=as_df['appraisal value'], name='appraisal value', mode='lines')\n",
    "fig.show()\n"
   ]
  },
  {
   "cell_type": "markdown",
   "id": "3d2a2e4d",
   "metadata": {},
   "source": [
    "# Monthly Payments"
   ]
  },
  {
   "cell_type": "code",
   "execution_count": null,
   "id": "b033d08e-91f1-4f1a-9fcf-8e14487e32e1",
   "metadata": {},
   "outputs": [],
   "source": [
    "fig = px.bar(as_df, x=as_df.index, y=['mortgage payment principal', 'mortgage payment interest', 'monthly tax payment'], title='Monthly Payments')\n",
    "fig.add_scatter(x=as_df.index, y=as_df['monthly payment'], name='monthly payment', mode='lines')\n",
    "fig.show()"
   ]
  },
  {
   "cell_type": "markdown",
   "id": "7ba2a11e",
   "metadata": {},
   "source": [
    "# Debt to Income Ratio"
   ]
  },
  {
   "cell_type": "code",
   "execution_count": null,
   "id": "5331ec7e",
   "metadata": {},
   "outputs": [],
   "source": [
    "fig = px.scatter(as_df, x=as_df.index, y=['debt to income ratio'], title='Debt to Income Ratio')\n",
    "fig.update_yaxes(range=[0, 100])\n",
    "fig.show()"
   ]
  },
  {
   "cell_type": "markdown",
   "id": "831fa528",
   "metadata": {},
   "source": [
    "# Randomized Interest Rate\n",
    "Randomize the interest rate every few years. Re-finance the loan into this new rate regardless of whether it's higher or lower."
   ]
  },
  {
   "cell_type": "code",
   "execution_count": null,
   "id": "957f090f",
   "metadata": {},
   "outputs": [],
   "source": [
    "INT_RANGE_LOW = 0.02\n",
    "INT_RANGE_HI = 0.11\n",
    "INT_CHANGE_PERIOD_YEARS = 3 # randomize each number of years\n",
    "\n",
    "def randomized_interest(starting_interest_rate, min, max, change_period_years, duration_months):\n",
    "    periodic_interest_rates = [starting_interest_rate]\n",
    "    change_period_months = 12 * change_period_years\n",
    "    t = np.arange(duration_months)\n",
    "    interest = np.zeros(t.size)\n",
    "    month_slice_start = 0\n",
    "    month_slice_end = change_period_months\n",
    "    interest[month_slice_start:month_slice_start + change_period_months] = starting_interest_rate\n",
    "    for i in range(duration_months // 12 // change_period_years - 1):\n",
    "        month_slice_start = (i + 1) * change_period_months\n",
    "        new_int = random.uniform(INT_RANGE_LOW, INT_RANGE_HI)\n",
    "        periodic_interest_rates.append(new_int)\n",
    "        interest[month_slice_start:month_slice_start + change_period_months] = new_int\n",
    "    df = pd.DataFrame(\n",
    "    {\n",
    "        'month': t,\n",
    "        'interest rate': interest\n",
    "    })\n",
    "    df = df.set_index('month')\n",
    "    return df, periodic_interest_rates\n",
    "    \n",
    "ri_df, periodic_interest_rates = randomized_interest(LOAN_APR, INT_RANGE_LOW, INT_RANGE_HI, INT_CHANGE_PERIOD_YEARS, DURATION * PAYMENTS_N)\n",
    "fig = px.scatter(ri_df, x=ri_df.index, y=['interest rate'], title='Randomized Interest Rate')\n",
    "fig.show()\n",
    "print(periodic_interest_rates)"
   ]
  },
  {
   "cell_type": "code",
   "execution_count": null,
   "id": "afc093dc",
   "metadata": {},
   "outputs": [],
   "source": [
    "ma_df = dataframes.refi_mortgage_amortization(PRINCIPAL, PAYMENTS_N, DURATION, DOWN_PAYMENT, INT_CHANGE_PERIOD_YEARS, periodic_interest_rates)\n",
    "display(ma_df.round(0))\n",
    "\n",
    "fig = px.bar(ma_df, x=ma_df.index, y=['interest paid', 'principal paid'])\n",
    "fig.add_scatter(x=ma_df.index, y=ma_df['mortgage balance'], name='mortgage balance')\n",
    "fig.add_scatter(x=ma_df.index, y=ma_df['equity'], name='equity')\n",
    "fig.show()"
   ]
  }
 ],
 "metadata": {
  "kernelspec": {
   "display_name": "Python 3 (ipykernel)",
   "language": "python",
   "name": "python3"
  },
  "language_info": {
   "codemirror_mode": {
    "name": "ipython",
    "version": 3
   },
   "file_extension": ".py",
   "mimetype": "text/x-python",
   "name": "python",
   "nbconvert_exporter": "python",
   "pygments_lexer": "ipython3",
   "version": "3.9.6"
  }
 },
 "nbformat": 4,
 "nbformat_minor": 5
}
