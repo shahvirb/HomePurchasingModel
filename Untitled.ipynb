{
 "cells": [
  {
   "cell_type": "code",
   "execution_count": null,
   "id": "ff4ba240-eb3d-4103-9972-e7ab5be4b659",
   "metadata": {},
   "outputs": [],
   "source": [
    "%load_ext autoreload\n",
    "%autoreload 2\n",
    "\n",
    "import plotly\n",
    "import plotly.graph_objects as go\n",
    "import plotly.express as px\n",
    "import numpy as np\n",
    "import formulas\n",
    "import pandas as pd\n",
    "import dataframes\n",
    "\n",
    "plotly.offline.init_notebook_mode(connected=True)"
   ]
  },
  {
   "cell_type": "code",
   "execution_count": null,
   "id": "2ec849eb-f142-4852-8d6c-f46077ed1339",
   "metadata": {},
   "outputs": [],
   "source": [
    "DOWN_PAYMENT = 200000\n",
    "PRINCIPAL = 300000\n",
    "LOAN_APR = 0.029\n",
    "PAYMENTS_N = 12\n",
    "DURATION = 30\n",
    "\n",
    "TAX_APPRAISAL_VAL = DOWN_PAYMENT + PRINCIPAL\n",
    "TAX_APR = 0.0135\n",
    "TAX_APPRAISAL_VAL_GROWTH_RATE = 0.01"
   ]
  },
  {
   "cell_type": "markdown",
   "id": "1e3adb96-ba43-453e-9733-1975acc88134",
   "metadata": {},
   "source": [
    "# Property Tax\n",
    "\n",
    "<span style=\"color:red\">\n",
    "</span>"
   ]
  },
  {
   "cell_type": "code",
   "execution_count": null,
   "id": "174538e7-7081-4778-b6a3-07e5ff7b8098",
   "metadata": {},
   "outputs": [],
   "source": [
    "tax_df = dataframes.property_tax_amortization(TAX_APPRAISAL_VAL, TAX_APR, PAYMENTS_N, DURATION, TAX_APPRAISAL_VAL_GROWTH_RATE)\n",
    "display(tax_df.round(0))"
   ]
  },
  {
   "cell_type": "markdown",
   "id": "3f53eafc-6c61-4f5d-871d-2e430344fb0f",
   "metadata": {},
   "source": [
    "# Mortgage Amortization"
   ]
  },
  {
   "cell_type": "code",
   "execution_count": null,
   "id": "3d21d3f4-a970-4bd3-ba80-25326c9e4302",
   "metadata": {},
   "outputs": [],
   "source": [
    "ma_df = dataframes.mortgage_amortization(PRINCIPAL, LOAN_APR, PAYMENTS_N, DURATION, DOWN_PAYMENT)\n",
    "display(ma_df.round(0))\n",
    "\n",
    "fig = px.bar(ma_df, x=ma_df.index, y=['interest paid', 'principal paid'])\n",
    "fig.add_scatter(x=ma_df.index, y=ma_df['mortgage balance'], name='mortgage balance')\n",
    "fig.add_scatter(x=ma_df.index, y=ma_df['equity'], name='equity')\n",
    "fig.show()"
   ]
  },
  {
   "cell_type": "markdown",
   "id": "5d5d460a-55be-48f6-95d6-fb516f1f06bb",
   "metadata": {},
   "source": [
    "# Payment Amortization"
   ]
  },
  {
   "cell_type": "code",
   "execution_count": null,
   "id": "6e663413-68b0-40be-9b1b-7be8237fa87c",
   "metadata": {},
   "outputs": [],
   "source": [
    "as_df = dataframes.amortization_summary(ma_df, tax_df)\n",
    "display(as_df.round(0))\n",
    "\n",
    "#Sums\n",
    "fig = px.bar(as_df, x=as_df.index, y=['principal paid', 'interest paid', 'tax paid'], title='Amounts Paid')\n",
    "fig.add_scatter(x=as_df.index, y=as_df['mortgage balance'], name='mortgage balance', mode='lines')\n",
    "fig.add_scatter(x=as_df.index, y=as_df['equity'], name='equity', mode='lines')\n",
    "fig.add_scatter(x=as_df.index, y=as_df['payments'], name='payments', mode='lines')\n",
    "fig.add_scatter(x=as_df.index, y=as_df['appraisal value'], name='appraisal value', mode='lines')\n",
    "fig.show()\n"
   ]
  },
  {
   "cell_type": "code",
   "execution_count": null,
   "id": "b033d08e-91f1-4f1a-9fcf-8e14487e32e1",
   "metadata": {},
   "outputs": [],
   "source": [
    "fig = px.bar(as_df, x=as_df.index, y=['mortgage payment principal', 'mortgage payment interest', 'monthly tax payment'], title='Monthly Payments')\n",
    "fig.show()"
   ]
  }
 ],
 "metadata": {
  "kernelspec": {
   "display_name": "Python 3",
   "language": "python",
   "name": "python3"
  },
  "language_info": {
   "codemirror_mode": {
    "name": "ipython",
    "version": 3
   },
   "file_extension": ".py",
   "mimetype": "text/x-python",
   "name": "python",
   "nbconvert_exporter": "python",
   "pygments_lexer": "ipython3",
   "version": "3.9.4"
  }
 },
 "nbformat": 4,
 "nbformat_minor": 5
}
